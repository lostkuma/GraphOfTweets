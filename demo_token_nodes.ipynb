{
 "cells": [
  {
   "cell_type": "code",
   "execution_count": 1,
   "metadata": {},
   "outputs": [],
   "source": [
    "import numpy as np\n",
    "from graph_config import GraphEdge, GraphNode, Graph"
   ]
  },
  {
   "cell_type": "code",
   "execution_count": 2,
   "metadata": {},
   "outputs": [],
   "source": [
    "# ======== load reduced graph ========\n",
    "graph = Graph()\n",
    "graph.LoadGraphFromJson('./reduced_graph_0225.json')"
   ]
  },
  {
   "cell_type": "code",
   "execution_count": 3,
   "metadata": {},
   "outputs": [
    {
     "name": "stdout",
     "output_type": "stream",
     "text": [
      "token \"covid\" is mapped to leading token: \"coronavirus\"\n"
     ]
    }
   ],
   "source": [
    "# look up what word is mapped to which leading word\n",
    "\n",
    "word_to_look_up = 'covid'\n",
    "print('token \"' + word_to_look_up + '\" is mapped to leading token: \"' + graph.GetNode(word_to_look_up).GetToken() + '\"')"
   ]
  },
  {
   "cell_type": "code",
   "execution_count": 4,
   "metadata": {
    "scrolled": false
   },
   "outputs": [
    {
     "name": "stdout",
     "output_type": "stream",
     "text": [
      "token \"coronavirus\" is merged with the following tokens: \n",
      "['sta', 'coronavirus19', 'coronavìrus', 'cor', 'coronavirme', 'coron', 'coronga', 'coroner', 'corono', 'coronaman', 'coronavirsus', 'virus', 'comeing', 'birus', 'filovirus', 'coronagainz', 'reaally', 'deakins', 'disater', 'ching', 'chinq', 'chong', 'cho', '#kwaichong', 'chongqing', 'unhun', 'chow', 'jingzhou', 'butthurt', 'ligma', 'way', 'strand', 'singlestrand', 'covid19', 'covid1919', 'covid', 'covid50', 'corona19', 'via', '来自', '來自', 'corona', 'exboyfriend', 'boyfriend', 'coronaviruss', '#coronaviruss', 'coronovirus', 'moronovirus']\n"
     ]
    }
   ],
   "source": [
    "# look up the merged word with the given word\n",
    "# note: the leading word of that node is not inside of the printed list\n",
    "\n",
    "word_to_look_up = 'coronavirus'\n",
    "print('token \"' + word_to_look_up + '\" is merged with the following tokens: ')\n",
    "print(graph.GetNode(word_to_look_up).GetMergedTokens())"
   ]
  }
 ],
 "metadata": {
  "kernelspec": {
   "display_name": "Python 3",
   "language": "python",
   "name": "python3"
  },
  "language_info": {
   "codemirror_mode": {
    "name": "ipython",
    "version": 3
   },
   "file_extension": ".py",
   "mimetype": "text/x-python",
   "name": "python",
   "nbconvert_exporter": "python",
   "pygments_lexer": "ipython3",
   "version": "3.7.0"
  }
 },
 "nbformat": 4,
 "nbformat_minor": 2
}
